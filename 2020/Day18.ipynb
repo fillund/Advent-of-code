{
 "metadata": {
  "language_info": {
   "codemirror_mode": {
    "name": "ipython",
    "version": 3
   },
   "file_extension": ".py",
   "mimetype": "text/x-python",
   "name": "python",
   "nbconvert_exporter": "python",
   "pygments_lexer": "ipython3",
   "version": "3.8.1-final"
  },
  "orig_nbformat": 2,
  "kernelspec": {
   "name": "python3",
   "display_name": "Python 3.8.1 64-bit ('Advent-of-code': pipenv)",
   "metadata": {
    "interpreter": {
     "hash": "56837b7da0c79dddc95628fe8f6cdc42e042b59d818561dc0d3a1e8cdf3b9165"
    }
   }
  }
 },
 "nbformat": 4,
 "nbformat_minor": 2,
 "cells": [
  {
   "cell_type": "code",
   "execution_count": null,
   "metadata": {},
   "outputs": [],
   "source": [
    "from aocd.models import Puzzle\n",
    "from typing import Tuple, Dict\n",
    "from collections import defaultdict\n",
    "from itertools import combinations, product, count, chain\n",
    "from functools import lru_cache, reduce\n",
    "from operator import mul\n",
    "import re\n",
    "\n",
    "puzzle = Puzzle(year=2020, day=18)\n",
    "print(puzzle.input_data)"
   ]
  }
 ]
}