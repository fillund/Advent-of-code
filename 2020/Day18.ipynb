{
 "metadata": {
  "language_info": {
   "codemirror_mode": {
    "name": "ipython",
    "version": 3
   },
   "file_extension": ".py",
   "mimetype": "text/x-python",
   "name": "python",
   "nbconvert_exporter": "python",
   "pygments_lexer": "ipython3",
   "version": "3.8.1-final"
  },
  "orig_nbformat": 2,
  "kernelspec": {
   "name": "python3",
   "display_name": "Python 3.8.1 64-bit ('Advent-of-code': pipenv)",
   "metadata": {
    "interpreter": {
     "hash": "56837b7da0c79dddc95628fe8f6cdc42e042b59d818561dc0d3a1e8cdf3b9165"
    }
   }
  }
 },
 "nbformat": 4,
 "nbformat_minor": 2,
 "cells": [
  {
   "cell_type": "code",
   "execution_count": null,
   "metadata": {},
   "outputs": [],
   "source": [
    "from aocd.models import Puzzle\n",
    "from typing import Tuple, Dict\n",
    "from collections import defaultdict\n",
    "from itertools import combinations, product, count, chain\n",
    "from functools import lru_cache, reduce\n",
    "from operator import mul, add\n",
    "import re\n",
    "\n",
    "puzzle = Puzzle(year=2020, day=18)\n",
    "print(puzzle.input_data)"
   ]
  },
  {
   "cell_type": "code",
   "execution_count": null,
   "metadata": {},
   "outputs": [],
   "source": [
    "lines = [[x for x in line.replace('(', '( ').replace(')', ' )').split()] for line in puzzle.input_data.splitlines()]\n",
    "test1 = '2 * 3 + (4 * 5)'.replace('(', '( ').replace(')', ' )').split() # 26\n",
    "test2 = '5 + (8 * 3 + 9 + 3 * 4 * 3)'.replace('(', '( ').replace(')', ' )').split() # 437\n",
    "test3 = '5 * 9 * (7 * 3 * 3 + 9 * 3 + (8 + 6 * 4))'.replace('(', '( ').replace(')', ' )').split() # 12240\n",
    "test4 = '((2 + 4 * 9) * (6 + 9 * 8 + 6) + 6) + 2 + 4 * 2'.replace('(', '( ').replace(')', ' )').split() # 13632"
   ]
  },
  {
   "cell_type": "code",
   "execution_count": null,
   "metadata": {},
   "outputs": [],
   "source": [
    "class AST:\n",
    "    operators = {'+': add, '*': mul}\n",
    "    def __init__(self, rootValue, leftChild=None, rightChild=None):\n",
    "        self.rootValue = rootValue\n",
    "        self.leftChild = leftChild\n",
    "        self.rightChild = rightChild\n",
    "\n",
    "    def __str__(self):\n",
    "        return str((self.rootValue, self.leftChild, self.rightChild))\n",
    "\n",
    "    def evaluate(self):\n",
    "        if self.leftChild is None and self.rightChild is None:\n",
    "            return self.rootValue\n",
    "        elif self.rootValue in self.operators:\n",
    "            return self.operators[self.rootValue](self.leftChild.evaluate(), self.rightChild.evaluate())\n",
    "        else:\n",
    "            raise ValueError\n",
    "    \n",
    "\n",
    "def create_AST(tokens:list):\n",
    "        stack = []\n",
    "        root = AST(None)\n",
    "        current = root\n",
    "        stack.append(root)\n",
    "        for token in tokens:\n",
    "            print(current)\n",
    "            if token == '(':\n",
    "                new = AST(None)\n",
    "                current.leftChild = new\n",
    "                stack.append(current)\n",
    "                current = new\n",
    "            elif token in AST.operators:\n",
    "                current.rootValue = token\n",
    "                new = AST(None)\n",
    "                current.rightChild = new\n",
    "                stack.append(current)\n",
    "                current = new\n",
    "            elif token.isnumeric():\n",
    "                current.rootValue = int(token)\n",
    "                current = stack.pop()\n",
    "            elif token == ')':\n",
    "                current = stack.pop()\n",
    "            else:\n",
    "                raise ValueError\n",
    "        return root\n",
    "\n",
    "# assert(create_AST(test1).evaluate() == 26)\n",
    "# assert(create_AST(test2).evaluate() == 437)\n",
    "# assert(create_AST(test3).evaluate() == 12240)\n",
    "# assert(create_AST(test4).evaluate() == 13632)"
   ]
  },
  {
   "cell_type": "code",
   "execution_count": null,
   "metadata": {},
   "outputs": [],
   "source": [
    "def shunting_yard_ast(tokens:list[str]):\n",
    "    # https://stackoverflow.com/questions/53839427/is-it-custumary-to-convert-from-infix-to-postfix-and-then-build-an-ast-on-math-e\n",
    "    # https://www.reddit.com/r/learnprogramming/comments/3cybca/how_do_i_go_about_building_an_ast_from_an_infix/\n",
    "    # https://en.wikipedia.org/wiki/Shunting-yard_algorithm\n",
    "    output_stack = []\n",
    "    op_stack = []\n",
    "    operators = ['+', '*']\n",
    "    \n",
    "    def pop_op():\n",
    "        op = op_stack.pop()\n",
    "        if op == '(':\n",
    "            return\n",
    "        child1 = output_stack.pop()\n",
    "        child2 = output_stack.pop()\n",
    "        output_stack.append(AST(tok, child1, child2))\n",
    "\n",
    "    for token in tokens:\n",
    "        if token.isnumeric():\n",
    "            output_stack.append(AST(int(token)))\n",
    "        if token in operators:\n",
    "            while len(op_stack > 0) and op_stack[-1] != '(':\n",
    "                pop_op()\n",
    "        if token == '(':\n",
    "            op_stack.append(token)\n",
    "        if token == ')':\n",
    "            while op_stack[-1] != '(': # This will be a off by one error!\n",
    "                pop_op()\n",
    "                \n"
   ]
  }
 ]
}