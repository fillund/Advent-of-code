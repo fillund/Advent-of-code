{
 "metadata": {
  "language_info": {
   "codemirror_mode": {
    "name": "ipython",
    "version": 3
   },
   "file_extension": ".py",
   "mimetype": "text/x-python",
   "name": "python",
   "nbconvert_exporter": "python",
   "pygments_lexer": "ipython3",
   "version": "3.8.0-final"
  },
  "orig_nbformat": 2,
  "kernelspec": {
   "name": "python3",
   "display_name": "Python 3.8.0 64-bit ('AdventOfCode': pipenv)",
   "metadata": {
    "interpreter": {
     "hash": "478b527516f2d8bf87b8f4689bbd4df82e6f809facf4bb98e9edf74a15b806d7"
    }
   }
  }
 },
 "nbformat": 4,
 "nbformat_minor": 2,
 "cells": [
  {
   "cell_type": "code",
   "execution_count": null,
   "metadata": {},
   "outputs": [],
   "source": [
    "from aocd.models import Puzzle\n",
    "from typing import Tuple, Dict, List\n",
    "from collections import defaultdict\n",
    "from itertools import combinations, product, count, chain\n",
    "from functools import lru_cache, reduce\n",
    "from operator import mul, add\n",
    "import re\n",
    "\n",
    "puzzle = Puzzle(year=2020, day=18)\n",
    "print(puzzle.input_data)"
   ]
  },
  {
   "cell_type": "code",
   "execution_count": null,
   "metadata": {},
   "outputs": [],
   "source": [
    "lines = [[x for x in line.replace('(', '( ').replace(')', ' )').split()] for line in puzzle.input_data.splitlines()]\n",
    "test1 = '2 * 3 + (4 * 5)' # 26\n",
    "test2 = '5 + (8 * 3 + 9 + 3 * 4 * 3)' # 437\n",
    "test3 = '5 * 9 * (7 * 3 * 3 + 9 * 3 + (8 + 6 * 4))' # 12240\n",
    "test4 = '((2 + 4 * 9) * (6 + 9 * 8 + 6) + 6) + 2 + 4 * 2' # 13632"
   ]
  },
  {
   "cell_type": "code",
   "execution_count": null,
   "metadata": {},
   "outputs": [],
   "source": [
    "class AST:\n",
    "    operators = {'+': add, '*': mul}\n",
    "    def __init__(self, rootValue, leftChild=None, rightChild=None):\n",
    "        self.rootValue = rootValue\n",
    "        self.leftChild = leftChild\n",
    "        self.rightChild = rightChild\n",
    "\n",
    "    def __str__(self):\n",
    "        return str((self.rootValue, self.leftChild, self.rightChild))\n",
    "\n",
    "    def evaluate(self):\n",
    "        if self.leftChild is None and self.rightChild is None:\n",
    "            return self.rootValue\n",
    "        elif self.rootValue in self.operators:\n",
    "            return self.operators[self.rootValue](self.leftChild.evaluate(), self.rightChild.evaluate())\n",
    "        else:\n",
    "            raise ValueError\n",
    "    \n",
    "\n",
    "def create_AST(tokens:list):\n",
    "        stack = []\n",
    "        root = AST(None)\n",
    "        current = root\n",
    "        stack.append(root)\n",
    "        for token in tokens:\n",
    "            print(current)\n",
    "            if token == '(':\n",
    "                new = AST(None)\n",
    "                current.leftChild = new\n",
    "                stack.append(current)\n",
    "                current = new\n",
    "            elif token in AST.operators:\n",
    "                current.rootValue = token\n",
    "                new = AST(None)\n",
    "                current.rightChild = new\n",
    "                stack.append(current)\n",
    "                current = new\n",
    "            elif token.isnumeric():\n",
    "                current.rootValue = int(token)\n",
    "                current = stack.pop()\n",
    "            elif token == ')':\n",
    "                current = stack.pop()\n",
    "            else:\n",
    "                raise ValueError\n",
    "        return root\n",
    "\n",
    "# assert(create_AST(test1).evaluate() == 26)\n",
    "# assert(create_AST(test2).evaluate() == 437)\n",
    "# assert(create_AST(test3).evaluate() == 12240)\n",
    "# assert(create_AST(test4).evaluate() == 13632)"
   ]
  },
  {
   "cell_type": "code",
   "execution_count": null,
   "metadata": {},
   "outputs": [],
   "source": [
    "def shunting_yard_ast(tokens:List[str]):\n",
    "    # https://stackoverflow.com/questions/53839427/is-it-custumary-to-convert-from-infix-to-postfix-and-then-build-an-ast-on-math-e\n",
    "    # https://www.reddit.com/r/learnprogramming/comments/3cybca/how_do_i_go_about_building_an_ast_from_an_infix/\n",
    "    # https://en.wikipedia.org/wiki/Shunting-yard_algorithm\n",
    "    output_stack = []\n",
    "    op_stack = []\n",
    "    operators = ['+', '*']\n",
    "    \n",
    "    def pop_op():\n",
    "        op = op_stack.pop()\n",
    "        if op == '(':\n",
    "            return\n",
    "        child1 = output_stack.pop()\n",
    "        child2 = output_stack.pop()\n",
    "        output_stack.append(AST(tok, child1, child2))\n",
    "\n",
    "    for token in tokens:\n",
    "        if token.isnumeric():\n",
    "            output_stack.append(AST(int(token)))\n",
    "        if token in operators:\n",
    "            while len(op_stack > 0) and op_stack[-1] != '(':\n",
    "                pop_op()\n",
    "        if token == '(':\n",
    "            op_stack.append(token)\n",
    "        if token == ')':\n",
    "            while op_stack[-1] != '(': # This will be a off by one error!\n",
    "                pop_op()\n",
    "                \n",
    "re_par = re.compile(r'\\(((\\d|\\*|\\+|\\s)+)\\)')\n",
    "\n",
    "def recursive_parse(expression:str) -> str:\n",
    "    old_expression = expression\n",
    "    if expression is None:\n",
    "        raise ValueError\n",
    "    while True:\n",
    "        expression = re_par.sub(lambda x: recursive_parse(x.group(1)), expression)\n",
    "        if expression == old_expression:\n",
    "            break\n",
    "        else:\n",
    "            old_expression = expression\n",
    "    idx = 0\n",
    "    tokens = expression.split()\n",
    "    acc = 0\n",
    "    op = add\n",
    "    while idx < len(tokens):\n",
    "        if tokens[idx] == '+':\n",
    "            op = add\n",
    "        if tokens[idx] == '*':\n",
    "            op = mul\n",
    "        if tokens[idx].isnumeric():\n",
    "            acc = op(acc, int(tokens[idx]))\n",
    "        idx += 1\n",
    "    return str(acc)\n",
    "\n",
    "class CustInt(int):\n",
    "    def __add__(self, a):\n",
    "        return CustInt(super().__mul__(a))\n",
    "    def __mul__(self, a):\n",
    "        return CustInt(super().__add__(a))\n",
    "\n",
    "def solve_b(puzzle_input):\n",
    "    results = []\n",
    "    for iline in puzzle_input:\n",
    "        line = iline.replace(\" \", \"\")\n",
    "        line = line.replace('+', '.')\n",
    "        line = line.replace('*', '+')\n",
    "        line = line.replace('.', '*')\n",
    "        tokens = []\n",
    "        for token in line:\n",
    "            if token not in '+*()':\n",
    "                token = 'CustInt({})'.format(token)\n",
    "            tokens.append(token)\n",
    "        results.append(eval(\"\".join(tokens)))\n",
    "    return sum(results)\n"
   ]
  },
  {
   "cell_type": "code",
   "execution_count": null,
   "metadata": {
    "tags": []
   },
   "outputs": [],
   "source": [
    "answer_a = sum([int(recursive_parse( '(' + x + ')' )) for x in puzzle.input_data.splitlines()])"
   ]
  },
  {
   "cell_type": "code",
   "execution_count": null,
   "metadata": {},
   "outputs": [],
   "source": [
    "puzzle.answer_a = answer_a"
   ]
  },
  {
   "cell_type": "code",
   "execution_count": null,
   "metadata": {},
   "outputs": [],
   "source": [
    "input_b = ['( ' + x.replace('*', ' )*( ') + ' )' for x in puzzle.input_data.splitlines()]"
   ]
  },
  {
   "cell_type": "code",
   "execution_count": null,
   "metadata": {},
   "outputs": [],
   "source": [
    "# assert(int(recursive_parse(test1)) == 46)\n",
    "# assert(int(recursive_parse(test2)) == 1445)\n",
    "# assert(int(recursive_parse(test3)) == 669060)\n",
    "# assert(int(recursive_parse(test4)) == 23340)\n",
    "\n",
    "# answer_b = sum([int(recursive_parse(x)) for x in input_b])\n",
    "puzzle.answer_b = solve_b(puzzle.input_data.splitlines())"
   ]
  },
  {
   "cell_type": "code",
   "execution_count": null,
   "metadata": {},
   "outputs": [],
   "source": [
    "apa = re_par.sub(lambda x: recursive_parse(x.group(1)) ,'((72 * 103 + 6) + (1 + 2 + 3)) + 2 + 4 * 2')\n",
    "print(apa)"
   ]
  }
 ]
}