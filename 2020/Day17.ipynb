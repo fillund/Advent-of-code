{
 "metadata": {
  "language_info": {
   "codemirror_mode": {
    "name": "ipython",
    "version": 3
   },
   "file_extension": ".py",
   "mimetype": "text/x-python",
   "name": "python",
   "nbconvert_exporter": "python",
   "pygments_lexer": "ipython3",
   "version": "3.8.1-final"
  },
  "orig_nbformat": 2,
  "kernelspec": {
   "name": "python3",
   "display_name": "Python 3.8.1 64-bit ('Advent-of-code': pipenv)",
   "metadata": {
    "interpreter": {
     "hash": "56837b7da0c79dddc95628fe8f6cdc42e042b59d818561dc0d3a1e8cdf3b9165"
    }
   }
  }
 },
 "nbformat": 4,
 "nbformat_minor": 2,
 "cells": [
  {
   "cell_type": "code",
   "execution_count": null,
   "metadata": {},
   "outputs": [],
   "source": [
    "from aocd.models import Puzzle\n",
    "from typing import Tuple, Dict\n",
    "from collections import defaultdict\n",
    "from itertools import combinations, product, count, chain\n",
    "from functools import lru_cache, reduce\n",
    "from operator import mul\n",
    "import re\n",
    "\n",
    "puzzle = Puzzle(year=2020, day=17)\n",
    "print(puzzle.input_data)"
   ]
  },
  {
   "cell_type": "code",
   "execution_count": null,
   "metadata": {},
   "outputs": [],
   "source": [
    "initial = defaultdict(bool) # True if active\n",
    "for i, row in enumerate(puzzle.input_data.splitlines()):\n",
    "    initial.update({(j,i,0):True for j,x in enumerate(row) if x=='#'})\n",
    "\n",
    "def vec_add(vec_a: tuple, vec_b: tuple) -> tuple:\n",
    "    assert (len(vec_a) == len(vec_b))\n",
    "    return tuple(map(sum, zip(vec_a, vec_b)))\n",
    "\n",
    "def get_neighbors(coord:tuple) -> list:\n",
    "    offsets = [x for x in product((1,0,-1), repeat=len(coord)) if x != (0,)*len(coord)]\n",
    "    return [vec_add(coord, offset) for offset in offsets]\n",
    "\n",
    "def step(grid: dict) -> dict:\n",
    "    active_neighbors = {}\n",
    "    for coord, val in grid.items():\n",
    "        if val:\n",
    "            active_neighbors.update({neighbor_coord:False for neighbor_coord in get_neighbors(coord) if neighbor_coord not in grid})\n",
    "\n",
    "    extended_grid = grid.copy()    \n",
    "    extended_grid.update(active_neighbors)\n",
    "    outgrid = defaultdict(bool)\n",
    "    for coord, active in extended_grid.items():\n",
    "        num_active_neighbors = sum([extended_grid.get(nx, False) for nx in get_neighbors(coord)])\n",
    "        if active and 2 <= num_active_neighbors <= 3:\n",
    "            outgrid[coord] = True\n",
    "        elif not active and num_active_neighbors == 3:\n",
    "            outgrid[coord] = True\n",
    "    return outgrid\n",
    "\n",
    "\n",
    "def solve_a(start_grid: dict) -> int:\n",
    "    num_cycles = 6\n",
    "    grid  = start_grid.copy()\n",
    "    for i in range(num_cycles):\n",
    "        grid = step(grid)\n",
    "\n",
    "    return sum(grid.values())\n",
    "\n",
    "answer_a = solve_a(initial)"
   ]
  },
  {
   "cell_type": "code",
   "execution_count": null,
   "metadata": {},
   "outputs": [],
   "source": [
    "puzzle.answer_a = answer_a\n"
   ]
  },
  {
   "cell_type": "code",
   "execution_count": null,
   "metadata": {},
   "outputs": [],
   "source": [
    "initial_b = defaultdict(bool) # True if active\n",
    "testdata = \"\"\".#.\n",
    "..#\n",
    "###\"\"\"\n",
    "\n",
    "for i, row in enumerate(puzzle.input_data.splitlines()):\n",
    "    initial_b.update({(j,i,0,0):True for j,x in enumerate(row) if x=='#'})\n",
    "\n",
    "\n",
    "answer_b = solve_a(initial_b)\n",
    "print(answer_b)"
   ]
  },
  {
   "cell_type": "code",
   "execution_count": null,
   "metadata": {},
   "outputs": [],
   "source": [
    "puzzle.answer_b = answer_b"
   ]
  },
  {
   "cell_type": "code",
   "execution_count": null,
   "metadata": {},
   "outputs": [],
   "source": []
  }
 ]
}