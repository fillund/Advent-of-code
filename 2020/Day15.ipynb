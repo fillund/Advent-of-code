{
 "metadata": {
  "language_info": {
   "codemirror_mode": {
    "name": "ipython",
    "version": 3
   },
   "file_extension": ".py",
   "mimetype": "text/x-python",
   "name": "python",
   "nbconvert_exporter": "python",
   "pygments_lexer": "ipython3",
   "version": "3.8.0-final"
  },
  "orig_nbformat": 2,
  "kernelspec": {
   "name": "python3",
   "display_name": "Python 3.8.0 64-bit ('AdventOfCode': pipenv)",
   "metadata": {
    "interpreter": {
     "hash": "478b527516f2d8bf87b8f4689bbd4df82e6f809facf4bb98e9edf74a15b806d7"
    }
   }
  }
 },
 "nbformat": 4,
 "nbformat_minor": 2,
 "cells": [
  {
   "cell_type": "code",
   "execution_count": 6,
   "metadata": {},
   "outputs": [
    {
     "output_type": "stream",
     "name": "stdout",
     "text": [
      "12,20,0,6,1,17,7\n"
     ]
    }
   ],
   "source": [
    "from aocd.models import Puzzle\n",
    "from typing import Tuple, Dict\n",
    "from collections import defaultdict\n",
    "from itertools import combinations, product, count\n",
    "from functools import lru_cache, reduce\n",
    "from operator import mul\n",
    "import re\n",
    "\n",
    "puzzle = Puzzle(year=2020, day=15)\n",
    "print(puzzle.input_data)"
   ]
  },
  {
   "cell_type": "code",
   "execution_count": 7,
   "metadata": {},
   "outputs": [],
   "source": [
    "starting = puzzle.input_data.split(',')\n",
    "spoken = {x:i for i,x in enumerate(starting, start=1)} # num:  last_turn\n",
    "\n",
    "last_num = starting[-1]\n",
    "\n",
    "turn = len(starting)+1\n",
    "while True:\n",
    "    if turn == 2021:\n",
    "        break\n",
    "    if last_num not in spoken:\n",
    "        spoken[last_num] = turn\n",
    "        last_num = 0\n",
    "    else:\n",
    "        last_num = spoken[last_num] - turn\n",
    "    turn += 1\n",
    "\n",
    "answer_a = last_num"
   ]
  },
  {
   "cell_type": "code",
   "execution_count": 8,
   "metadata": {},
   "outputs": [
    {
     "output_type": "stream",
     "name": "stderr",
     "text": [
      "wrong answer: 0\n",
      "That's not the right answer.  If you're stuck, make sure you're using the full input data; there are also some general tips on the about page, or you can ask for hints on the subreddit.  Please wait one minute before trying again. (You guessed 0.) [Return to Day 15]\n"
     ]
    }
   ],
   "source": [
    "puzzle.answer_a = answer_a"
   ]
  }
 ]
}