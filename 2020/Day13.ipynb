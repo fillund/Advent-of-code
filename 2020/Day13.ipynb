{
 "metadata": {
  "language_info": {
   "codemirror_mode": {
    "name": "ipython",
    "version": 3
   },
   "file_extension": ".py",
   "mimetype": "text/x-python",
   "name": "python",
   "nbconvert_exporter": "python",
   "pygments_lexer": "ipython3",
   "version": "3.8.0-final"
  },
  "orig_nbformat": 2,
  "kernelspec": {
   "name": "python3",
   "display_name": "Python 3.8.0 64-bit ('AdventOfCode': pipenv)",
   "metadata": {
    "interpreter": {
     "hash": "478b527516f2d8bf87b8f4689bbd4df82e6f809facf4bb98e9edf74a15b806d7"
    }
   }
  }
 },
 "nbformat": 4,
 "nbformat_minor": 2,
 "cells": [
  {
   "cell_type": "code",
   "execution_count": 1,
   "metadata": {},
   "outputs": [
    {
     "output_type": "stream",
     "name": "stdout",
     "text": [
      "1000508\n",
      "29,x,x,x,x,x,x,x,x,x,x,x,x,x,x,x,x,x,x,x,x,x,x,37,x,x,x,x,x,467,x,x,x,x,x,x,x,23,x,x,x,x,13,x,x,x,17,x,19,x,x,x,x,x,x,x,x,x,x,x,443,x,x,x,x,x,x,x,x,x,x,x,x,x,x,x,x,x,x,x,x,x,x,x,x,x,x,x,x,x,x,x,x,x,x,x,x,x,x,x,x,41\n"
     ]
    }
   ],
   "source": [
    "from aocd.models import Puzzle\n",
    "from typing import Tuple, Dict\n",
    "from collections import defaultdict\n",
    "from itertools import combinations, product, count\n",
    "from functools import lru_cache, reduce\n",
    "from operator import mul\n",
    "import re\n",
    "\n",
    "puzzle = Puzzle(year=2020, day=13)\n",
    "print(puzzle.input_data)"
   ]
  },
  {
   "cell_type": "code",
   "execution_count": 2,
   "metadata": {},
   "outputs": [],
   "source": [
    "arrival, rest = puzzle.input_data.splitlines()\n",
    "arrival = int(arrival)\n",
    "busIDs = [int(x) for x in rest.split(',') if x.isnumeric()]\n",
    "\n",
    "next_arrival = {ID:(arrival//ID +1)*ID for ID in busIDs}\n",
    "\n",
    "bus_a = min(next_arrival.items(), key=lambda x: x[1]-arrival)\n",
    "answer_a = bus_a[0]*(bus_a[1]-arrival)"
   ]
  },
  {
   "cell_type": "code",
   "execution_count": 3,
   "metadata": {},
   "outputs": [],
   "source": [
    "puzzle.answer_a = answer_a"
   ]
  },
  {
   "cell_type": "code",
   "execution_count": 4,
   "metadata": {},
   "outputs": [
    {
     "output_type": "stream",
     "name": "stdout",
     "text": [
      "That's the right answer!  You are one gold star closer to saving your vacation.You have completed Day 13! You can [Shareon\n",
      "  Twitter\n",
      "Mastodon] this victory or [Return to Your Advent Calendar].\n"
     ]
    }
   ],
   "source": [
    "# rest = '67,7,59,61'\n",
    "buses = [int(x) if x.isnumeric() else x for x in rest.split(',')]\n",
    "start_time = 100000000000000\n",
    "\n",
    "offsets = [(dt,x) for dt,x in enumerate(buses) if x != 'x']\n",
    "max_offset = max(offsets, key=lambda x: x[1])\n",
    "ITERSTOP = reduce(mul, map(lambda x: x[1], offsets))\n",
    "t = 0\n",
    "i = 0\n",
    "interval = 1\n",
    "while True:\n",
    "    if t > ITERSTOP:\n",
    "        print('Max time reached')\n",
    "        break\n",
    "    modlist = ((t+dt)%x==0 for dt, x in offsets[:i+1])\n",
    "    if all(modlist):\n",
    "        interval *= offsets[i][1]\n",
    "        i += 1\n",
    "    if i == len(offsets):\n",
    "        break\n",
    "    t += interval\n",
    "t\n",
    "answer_b = t\n",
    "puzzle.answer_b = answer_b"
   ]
  },
  {
   "cell_type": "code",
   "execution_count": 5,
   "metadata": {},
   "outputs": [
    {
     "output_type": "stream",
     "name": "stdout",
     "text": [
      "878977779203641 \n",
      " 100000000000000\n"
     ]
    }
   ],
   "source": [
    "print(reduce(mul, map(lambda x: x[1], offsets)), '\\n', start_time)"
   ]
  }
 ]
}