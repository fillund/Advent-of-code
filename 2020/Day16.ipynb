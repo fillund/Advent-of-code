{
 "metadata": {
  "language_info": {
   "codemirror_mode": {
    "name": "ipython",
    "version": 3
   },
   "file_extension": ".py",
   "mimetype": "text/x-python",
   "name": "python",
   "nbconvert_exporter": "python",
   "pygments_lexer": "ipython3",
   "version": "3.8.1-final"
  },
  "orig_nbformat": 2,
  "kernelspec": {
   "name": "python3",
   "display_name": "Python 3.8.1 64-bit ('Advent-of-code': pipenv)",
   "metadata": {
    "interpreter": {
     "hash": "56837b7da0c79dddc95628fe8f6cdc42e042b59d818561dc0d3a1e8cdf3b9165"
    }
   }
  }
 },
 "nbformat": 4,
 "nbformat_minor": 2,
 "cells": [
  {
   "cell_type": "code",
   "execution_count": null,
   "metadata": {},
   "outputs": [],
   "source": [
    "from aocd.models import Puzzle\n",
    "from typing import Tuple, Dict\n",
    "from collections import defaultdict\n",
    "from itertools import combinations, product, count, chain\n",
    "from functools import lru_cache, reduce\n",
    "from operator import mul\n",
    "import re\n",
    "\n",
    "puzzle = Puzzle(year=2020, day=16)\n",
    "print(puzzle.input_data)"
   ]
  },
  {
   "cell_type": "code",
   "execution_count": null,
   "metadata": {},
   "outputs": [],
   "source": [
    "re_rules = re.compile(r'(\\w+\\s?\\w+): (\\d+)-(\\d+) or (\\d+)-(\\d+)')\n",
    "sections = puzzle.input_data.split('\\n\\n')\n",
    "# sections = \"\"\"class: 0-1 or 4-19\n",
    "# row: 0-5 or 8-19\n",
    "# seat: 0-13 or 16-19\n",
    "\n",
    "# your ticket:\n",
    "# 11,12,13\n",
    "\n",
    "# nearby tickets:\n",
    "# 3,9,18\n",
    "# 15,1,5\n",
    "# 5,14,9\"\"\".split('\\n\\n')\n",
    "\n",
    "rules = {}\n",
    "for line in sections[0].splitlines():\n",
    "    a,b,c,d,e = re_rules.match(line).groups()\n",
    "    rules[a] = [(int(b),int(c)), (int(d),int(e))]\n",
    "yours = [int(x) for x in sections[1].splitlines()[1].split(',')]\n",
    "nearby = []\n",
    "for line in sections[2].splitlines()[1:]:\n",
    "    nearby.append([int(x) for x in line.split(',')])\n",
    "\n"
   ]
  },
  {
   "cell_type": "code",
   "execution_count": null,
   "metadata": {},
   "outputs": [],
   "source": [
    " # Part 1\n",
    "invalids = []\n",
    "valid_nearby = []\n",
    "for ticket in nearby:\n",
    "    ticket_valid = True\n",
    "    for elem in ticket:\n",
    "        invalid = (not (rule[0][0] <= elem <= rule[0][1] or rule[1][0] <= elem <= rule[1][1]) for rule in rules.values())\n",
    "        if all(invalid):\n",
    "            invalids.append(elem)\n",
    "            ticket_valid = False\n",
    "    if ticket_valid:\n",
    "        valid_nearby.append(ticket)\n",
    "\n",
    "answer_a = sum(invalids)\n",
    "print(answer_a)"
   ]
  },
  {
   "cell_type": "code",
   "execution_count": null,
   "metadata": {},
   "outputs": [],
   "source": [
    "puzzle.answer_a = answer_a"
   ]
  },
  {
   "cell_type": "code",
   "execution_count": null,
   "metadata": {},
   "outputs": [],
   "source": [
    "num_fields = len(valid_nearby[0])\n",
    "rule2idx = {}\n",
    "idx = -1\n",
    "laps = 0\n",
    "rules_available = list(rules.keys())\n",
    "cols_available = {x:list(range(num_fields)) for x in rules_available}\n",
    "while len(rules_available) > 0:\n",
    "    idx = (idx+1)%len(rules_available)\n",
    "    rule_name = rules_available[idx]\n",
    "    rule = rules[rule_name]\n",
    "    if  laps > 10*num_fields:\n",
    "        break\n",
    "\n",
    "    \n",
    "    col_invalid = [(col,any([not (rule[0][0] <= row[col] <= rule[0][1] or rule[1][0] <= row[col] <= rule[1][1]) for row in valid_nearby])) for col in cols_available[rule_name]]\n",
    "    for i, x in col_invalid:\n",
    "        if x:\n",
    "            cols_available[rule_name].remove(i)    \n",
    "        # col_matches.append(all([rule[0][0] <= row[col] <= rule[0][1] or rule[1][0] <= row[col] <= rule[1][1] for row in valid_nearby]))\n",
    "\n",
    "    if len(cols_available[rule_name]) == 1:\n",
    "            rules_available.remove(rule_name)\n",
    "            col = cols_available[rule_name][0]\n",
    "            rule2idx[rule_name] = col\n",
    "            for other in rules_available:\n",
    "                if rule_name == other:\n",
    "                    continue\n",
    "                if col in cols_available[other]:\n",
    "                    cols_available[other].remove(col)\n",
    "\n",
    "    if idx == 0:\n",
    "        laps += 1\n",
    "\n",
    "if len(rule2idx.keys()) != len(rules.keys()):\n",
    "    print('Not all rules matched!')        \n",
    "\n",
    "destination_rules = [x for x in rules.keys() if 'departure' in x]\n",
    "answer_b = reduce(mul, [yours[rule2idx[x]] for x in destination_rules])"
   ]
  },
  {
   "cell_type": "code",
   "execution_count": null,
   "metadata": {},
   "outputs": [],
   "source": [
    "puzzle.answer_b = answer_b\n"
   ]
  }
 ]
}