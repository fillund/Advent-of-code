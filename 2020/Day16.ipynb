{
 "metadata": {
  "language_info": {
   "codemirror_mode": {
    "name": "ipython",
    "version": 3
   },
   "file_extension": ".py",
   "mimetype": "text/x-python",
   "name": "python",
   "nbconvert_exporter": "python",
   "pygments_lexer": "ipython3",
   "version": "3.8.1-final"
  },
  "orig_nbformat": 2,
  "kernelspec": {
   "name": "python3",
   "display_name": "Python 3.8.1 64-bit ('Advent-of-code': pipenv)",
   "metadata": {
    "interpreter": {
     "hash": "56837b7da0c79dddc95628fe8f6cdc42e042b59d818561dc0d3a1e8cdf3b9165"
    }
   }
  }
 },
 "nbformat": 4,
 "nbformat_minor": 2,
 "cells": [
  {
   "cell_type": "code",
   "execution_count": null,
   "metadata": {},
   "outputs": [],
   "source": [
    "from aocd.models import Puzzle\n",
    "from typing import Tuple, Dict\n",
    "from collections import defaultdict\n",
    "from itertools import combinations, product, count, chain\n",
    "from functools import lru_cache, reduce\n",
    "from operator import mul\n",
    "import re\n",
    "\n",
    "puzzle = Puzzle(year=2020, day=16)\n",
    "print(puzzle.input_data)"
   ]
  },
  {
   "cell_type": "code",
   "execution_count": null,
   "metadata": {},
   "outputs": [],
   "source": [
    "re_rules = re.compile(r'(\\w+\\s?\\w+): (\\d+)-(\\d+) or (\\d+)-(\\d+)')\n",
    "sections = puzzle.input_data.split('\\n\\n')\n",
    "rules = {}\n",
    "for line in sections[0].splitlines():\n",
    "    a,b,c,d,e = re_rules.match(line).groups()\n",
    "    rules[a] = [(int(b),int(c)), (int(d),int(e))]\n",
    "yours = [int(x) for x in sections[1].splitlines()[1].split(',')]\n",
    "nearby = []\n",
    "for line in sections[2].splitlines()[1:]:\n",
    "    nearby.append([int(x) for x in line.split(',')])\n",
    "\n"
   ]
  },
  {
   "cell_type": "code",
   "execution_count": null,
   "metadata": {},
   "outputs": [],
   "source": [
    " # Part 1\n",
    "invalids = []\n",
    "for elem in chain.from_iterable(nearby):\n",
    "    invalid = (not (rule[0][0] <= elem <= rule[0][1] or rule[1][0] <= elem <= rule[1][1]) for rule in                        rules.values())\n",
    "    if all(invalid):\n",
    "        invalids.append(elem)\n",
    "\n",
    "answer_a = sum(invalids)\n",
    "print(answer_a)"
   ]
  },
  {
   "cell_type": "code",
   "execution_count": null,
   "metadata": {},
   "outputs": [],
   "source": [
    "puzzle.answer_a = answer_a"
   ]
  }
 ]
}