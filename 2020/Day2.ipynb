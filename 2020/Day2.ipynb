{
 "metadata": {
  "language_info": {
   "codemirror_mode": {
    "name": "ipython",
    "version": 3
   },
   "file_extension": ".py",
   "mimetype": "text/x-python",
   "name": "python",
   "nbconvert_exporter": "python",
   "pygments_lexer": "ipython3",
   "version": "3.8.0-final"
  },
  "orig_nbformat": 2,
  "kernelspec": {
   "name": "python3",
   "display_name": "Python 3"
  }
 },
 "nbformat": 4,
 "nbformat_minor": 2,
 "cells": [
  {
   "cell_type": "code",
   "execution_count": 4,
   "metadata": {},
   "outputs": [
    {
     "output_type": "execute_result",
     "data": {
      "text/plain": [
       "sbzsssss\\n3-4 v: nvvvc\\n9-10 p: pppppppppp\\n7-8 l: pfclnccfn\\n14-17 c: jcrjhgcccccnsccpc\\n3-4 p: pjgcpxt\\n4-8 l: wvlrptdftlpw\\n6-10 f: hdnffrxfrf\\n2-5 s: ssssj\\n10-13 x: xvlcrccxxxbxh\\n3-4 w: wwwdw\\n9-15 g: gggggggggggggggg\\n10-11 f: flxvfffffwqk\\n5-6 l: lllltvlll\\n8-9 t: vpdrntgdr\\n11-12 c: bpxsnvhvfcprpwz\\n7-8 f: wpgfvvzb\\n2-6 p: dmccpk\\n7-11 d: kwdblcxdrmr\\n3-4 g: ggfzgggg\\n7-9 h: hhhzcvdnz\\n4-8 l: ttljxlxlw\\n12-15 x: xtwwxxxcxxxxxxsx\\n10-13 d: ddbhkdddddddd\\n1-4 j: jjvtmc\\n8-11 b: bbxcrjbmnnbmxfq\\n3-4 h: hhhh\\n5-7 n: nnnqwvgn\\n3-5 q: qxlqvqq\\n4-9 k: kkkkkkkkkkk\\n5-8 p: spppxppwpppprppp\\n3-12 q: qtkqqpqtqqqqqqqqqqq\\n16-17 x: xzhxxxxxqnxmhxxpd\\n12-15 q: rsrhzrghndsqslqnp\\n2-6 z: rzzpzz\\n2-4 m: mmbm\\n4-5 g: gfgfq\\n1-6 t: stttsh\\n4-5 h: hlhnm\\n12-13 d: dddddddddddpd\\n9-10 h: ghhhhhhhkchh\\n10-15 r: rvgxrrcrrwrrrrtlrrr\\n5-10 l: qltclnnblcrlv\\n11-17 p: ppqpppvjbrpppqpppjw\\n9-12 g: xghzsgmkggtg\\n13-15 t: jtdkhqttstxbztstt\\n14-18 c: chcvxpcxccxckhcddh\\n12-14 d: ddddddddsddddd\\n4-8 l: rsdllblllxl\\n4-9 m: xmrzbmrmhbsm\\n2-3 s: ptcp\\n5-8 p: mtxhpvkpkrzhhjxpp\\n4-6 w: wwwdwj\\n4-6 w: wwwlwf\\n6-7 l: zllntlr\\n10-14 d: dqdddddddndddvddd\\n2-6 f: dfpjwfgrfwlsc\\n3-5 n: lnnxvq\\n4-19 b: bbbbqbbbbbbjbbbsbbbb\\n4-12 s: mmlmthslfcnnrwkh\\n2-7 d: ddddddd\\n3-7 j: kpjwjjj\\n7-8 p: pcmchppp\\n4-7 f: fffvffgf\\n4-7 d: ddmdfcv\\n13-14 w: wjwmwwxwfmpdpf\\n5-7 d: ddrdmsh\\n4-5 r: rrrrrr\\n4-5 g: ngsvg\\n7-13 g: gggggggfggggggjg\\n6-10 m: hbsqkpmfzss\\n8-10 p: kppkdpptpmpnpl\\n3-4 l: llll\\n11-12 s: ssssssssssqksq\\n15-16 d: gdmdwdrzdkctddzv\\n7-13 d: ddddddddqdddjd\\n7-8 t: tdtdrglm\\n3-6 s: sskssz\\n2-3 n: nbnmrnxxfwqbdh\\n1-4 l: wlxlllllllllllnpl\\n7-8 v: khcxvvfd\\n14-15 j: jjjjjjjjjjjjjbf\\n1-7 n: ndncltg\\n1-5 l: dllzmg\\n3-4 p: zpzmp\\n1-6 b: sbbbsb\\n11-13 x: twcxxxxcxxxxd\\n3-4 r: rrrtv\\n1-9 z: kzvlzlnznzlhbdp\\n5-11 q: qfbqbqnsjds\\n4-5 b: wcjbb\\n2-4 b: bdbn\\n3-12 g: zftzmsbsjgggw\\n11-14 h: hkhhhdhhhdfhhhh\\n1-2 z: zzbz\\n6-15 z: zznzzzzzzzzzzzzzzzzz\\n6-9 j: jjjjjwjjm\\n2-3 h: glghhh\\n16-17 r: rhhdnrjrrbrgnrqjb\\n2-12 j: jzjjchndjjbcfhmqkmn\\n1-4 n: dnnn\\n7-12 w: wswwwqmswqwcl\\n3-5 g: ggvgz\\n1-3 c: ccccmczccq\\n4-8 k: rhckkkkksvkdkmkkvbrk\\n7-11 j: gjwjhjjpsfqxnjd\\n3-4 n: ndnjn\\n3-4 b: gsbhb\\n4-5 z: zzzzzz\\n2-12 f: zltmcbkcvlsfjsm\\n8-11 g: gggggggtxgmg\\n8-11 l: lllllllllllll\\n1-18 d: ddmlltqflhkpjdxrwdn\\n3-4 h: hdhhh\\n3-11 w: djwsxklbrbptcfcwcrch\\n7-9 m: hshmlmmmmv\\n11-17 d: dtcdddddhdjprmqdjb\\n3-6 c: ccjccccv\\n12-16 r: rrrrrrrrrrrrrrrrr\\n4-5 p: hvpnc\\n2-11 z: zzznvrzzvzzz\\n6-7 s: szfswss\\n19-20 p: pppppppppppppppppppp\\n1-11 b: bzkqmnbbwmkczz\\n15-17 d: ddddddddddddddddd\\n5-12 s: xsskshskfvkrmsssv\\n2-17 r: rrrrrrrrlrzrrwrrr\\n5-8 c: cccclccn\\n7-11 k: fnktjpzbcckjnqvmmnl\\n4-5 c: cdzhcfvsc\\n2-8 f: mfsfrfbs\\n11-12 r: rqhjgnsrrrlj\\n5-7 r: vbfjpzrr\\n2-4 d: dwjl\\n5-9 f: ddffrrfffffnfjr\\n1-12 h: whghdlghthlxjmg\\n5-18 p: lpppqplhsxpppppppqx\\n9-13 q: xqkzksbsrgsqq\\n13-15 l: llllllllllllllll\\n9-11 p: whpfjshkxcjf\\n6-7 g: gggggfbg\\n10-11 b: bbbbbbtbbbb\\n2-4 n: tnhn\\n12-13 q: fqqqqqqqqqxfvvqq\\n6-7 d: ctddrqw\\n6-8 n: nzwnnzvnnnnrr\\n10-14 w: qjlxjwdqzgthzs\\n6-14 n: qnpznqnqdmnnnmcmqrbh\\n6-19 r: lrrmrprlrbrpztrrrrr\\n3-7 p: pwppghpp\\n6-12 l: llllllllhllllllll\\n11-12 n: nnznnnhnnnnn\\n17-19 b: bbnbbbbbbbbbbbbbrbj\\n8-11 d: dfddfdxdddd\\n4-5 w: wwwxl\\n2-8 v: xzvvvvvcvbvlz\\n6-7 t: ktttwct\\n2-4 l: wltlc\\n5-12 d: kqmpddtfzlfddsd\\n3-4 r: rrrg\\n1-4 k: dkks\\n3-6 v: vvtvvh\\n14-15 c: ccscchbcccccccc\\n2-8 v: svvvhsvv\\n11-14 g: gggggggggggggggp\\n8-10 v: vvvvvvvvvvv\\n7-13 g: gggggggggccggg\\n8-10 v: vvvvvvpvvv\\n1-3 d: dddd\\n5-6 w: vrnpcw\\n9-12 w: wwgwfwwwwgmw\\n7-11 w: wwwwwwwwwwww\\n1-4 f: fwft\\n6-8 n: cnnbpnnnctnnvnldnj\\n8-17 r: jrrmrrrfrrdrrjrsdr\\n5-7 r: rrrrhrtr\\n5-6 z: nxwtzzwlsmngkjzjgs\\n5-6 q: qqqqqq\\n4-5 c: sskrxc\\n3-9 f: sjfstwfpffcdhfftbfvt\\n1-4 z: zzzzzzzzzzzzzzzzzzz\\n5-6 f: xmnfffb\\n1-3 z: nzdzzz\\n8-13 s: sgsgbsssbsbsssk\\n5-7 v: vlbqjhrmbvw\\n9-10 w: wwwwwwwwgfwxwwwjwwww\\n5-7 n: nkvqnnnn\\n3-14 b: mzkkbbcbbmgxvbp\\n18-19 h: hhhhhhhhhhhhwhhhhhh\\n3-6 g: ggjvggggm\\n11-14 c: ccccjclccccdcccncc\\n5-7 x: xlckxxx\\n2-5 l: lrlll\\n10-12 t: tttttdtttztjt\\n1-4 c: cpkctsjp\\n6-11 c: cccccccccccc\\n6-8 f: cffvnrkfqmfffr\\n8-10 c: cccmcccccc\\n2-4 m: fdhdkxfmlz\\n5-7 g: gggggjgggg\\n13-14 v: vkhvpxdthvdvnrl\\n6-12 c: cccgcrcchccqzsqsc\\n7-8 w: wwwwwwcrwm\\n12-15 s: smmfsspsspsswss\\n7-14 p: pxppsmppppppgqmpppp\\n6-13 z: pjzzdzshcdgzcslr\\n8-10 q: qqqqqqqqqqq\\n2-4 p: ppppp\\n10-15 t: hqtttttqtltvttsttt\\n8-10 g: qrvfmmggsr\\n6-7 d: dddvdvdd\\n3-4 q: qqkcq\\n1-2 l: llgwzclzl\\n7-8 h: hhhhhhgfhh\\n2-4 f: fkcpq\\n3-5 r: rrrrrrr\\n5-7 p: pppppppkppwpk\\n4-5 j: jgcjj\\n8-9 g: gggggggggggvggg\\n7-10 p: pplppptnpn\\n8-9 p: pppppppwpp\\n4-5 k: skkkk\\n11-17 f: fkkffknfspfkxffvf\\n3-14 x: xxmxxxxxxxxxxjxxx\\n2-4 r: ndjpbrgjwsfpqlnrcr\\n8-10 w: dgwzwwwdwtww\\n6-7 l: mvdftllwnzxdwhcvl\\n9-11 v: vvvvvvvvmvv\\n10-11 z: pzzzlsfzppzzzzzlz\\n7-8 w: wwwwwwww\\n3-5 r: rrprrr\\n10-11 z: zzzzzzzzzzzvz\\n7-8 q: qqqqqqzmqz\\n9-10 g: dggggggrqtgg\\n4-10 c: cccfcccccz\\n5-12 g: hfwkqmgxszhl\\n1-4 q: dqqrqq\\n1-10 v: qvvvvvvvgvvvv\\n6-7 l: rhllzllll\\n2-4 s: sssssq\\n12-16 r: rrrrrrrrrnrrrrrrrrrr\\n1-5 w: wgwzc\\n12-13 l: llhlldlmlllllll\\n4-8 b: bbbbbbbkb\\n1-5 p: ptpsp\\n4-6 d: mjvdld\\n2-6 m: mmvgtms\\n3-5 d: rrdfdrddzw\\n1-5 s: ssssss\\n8-11 f: qfflffffmffffffftx\\n2-10 x: xxxxxrxxxxvxsxvxgxwx\\n3-5 v: vkgqv\\n16-17 h: hthhhhhhhhhhhhhrh\\n4-5 b: bqplb\\n3-5 b: txbbbqsbbksmbp\\n16-17 q: nqjqqqqqqjdqqqqgl\\n4-5 x: xlxcfxx\\n15-16 x: xxxxxxxxxxxxxxmg\\n15-17 t: tkkttwttttttttttttt\\n6-7 v: vvvfvvvvvvvvvvvvvvvv\\n9-13 j: jjjjjjjzvjjjpj\\n6-11 s: sscsscswsfnsss\\n1-2 c: cnpl\\n17-18 v: vvvvvsvhvrvvvhvvqc\\n6-7 j: jjbjjjjstjg\\n5-14 g: gggmxgngggngggl\\n2-4 b: bmbwbs\\n11-16 v: cvrtvnvqvvcvvvvwv\\n16-19 c: chccgvlclcnncdfcxcn\\n1-2 g: rngb\\n5-7 j: jjjdfjjjjj\\n5-6 g: ggfghx\\n1-2 m: pmgndcmg\\n10-12 w: cwwwwjhznwcwswl\\n1-2 z: zzzzzz\\n4-5 z: hxmzh\\n1-2 t: thwxshrtldtvg\\n8-16 h: hhhhhhhhhhhhhhhhhhh\\n6-18 q: qqqqmqqqqbqxqqqqqqqq\\n4-5 g: gjjgq\\n3-12 x: txxxxvxjnxxxxxskhh\\n1-15 f: fffnqfwrffhffff\\n7-10 g: gpggzgggdkk\\n4-8 v: vvvgbvvbzv\\n1-6 n: cnqnnnb\\n1-3 k: skzkkdk\\n10-11 z: zzzzzzzqxhzt\\n7-16 p: sppdxpdzppppdpvj\\n9-10 n: nnnnnnnnfnnnnn\\n3-9 v: vhvtkxzxvjp\\n7-15 h: rtvchhhhhpdlzthz\\n5-10 d: njqvdnrdddvptdf\\n1-5 t: ttgzttll\\n3-7 l: zwzbwtdllsznz\\n5-8 t: btvtthtttd\\n6-7 t: tthtttb\\n3-17 s: zslvsbrlnqshsrgss\\n4-7 f: fffffff\\n2-5 v: vvvvgv\\n2-4 r: crrr\\n8-9 k: fklhhzskk\\n5-9 d: dbddjdddkddddd\\n2-5 z: svzkzbbkmj\\n2-4 f: lgwf\\n2-4 q: mvrzbd\\n6-13 r: trrrrrrrdgrbrrrjrrx\\n16-17 g: ggggggggggggggggg\\n6-15 p: mhpcppnfnplhzjphs\\n5-10 l: nvllkslllxlllzlj\\n3-8 l: dclccbslwlslqlll\\n4-8 v: vvvvvvvv\\n14-16 v: svvvnvvxvvvqvvvn\\n8-13 z: zzzzzrmzszfzpzzznzf\\n9-11 f: ffffffffnfc\\n4-7 q: qsxfqqc\\n2-6 h: nhrnhhx\\n8-12 k: mbkgxkvxqqkk\\n13-14 c: lclkmkmcdxscww\\n4-5 p: pppppp\\n2-4 l: lbzmpv\\n3-4 g: glggngprsgr\\n10-15 b: bbbbbbbbbbbbbbbbbbb\\n11-17 z: zzzzzzzzzzxzzzzzxz\\n7-8 q: frvqpggq\\n9-10 f: fffffkbffff\\n3-12 j: jjjjjjjjjjjjjj\\n4-5 j: jjbkd\\n1-2 m: nmdmmmmmmm\\n14-16 w: wwwwwwwwwwwwwwww\\n5-9 r: rrkrrwhrrr\\n2-3 h: hcfh\\n15-17 w: zmwwwwwwgwwwwwwvwwww\\n8-13 r: lzfczkplgdpqz\\n13-14 z: qzzczzkgzzzmztcz\\n8-9 k: kkstkcrkkmjbklk\\n12-13 w: bkxwwwwwzwwwwwwwswx\\n7-8 x: xxxxxxlvxx\\n2-4 l: wlllsllll\\n5-6 c: cmccccccv\\n3-4 p: ppvs\\n5-12 s: fssssldsssxpvsx\\n5-12 g: jvqrggdbglpgggkkxgg\\n7-8 g: ggxgnjgggzbgjg\\n8-9 p: pcppppppp\\n5-14 f: bfffhffffhfsfff\\n2-5 f: fffffff\\n3-12 x: pxxxxxqkxhdqk\\n10-13 r: rrrrrrrrrrrrrrrrrr\\n6-15 x: nmxsfhbcvgvhxlx\\n5-9 v: vvvvvvvvv\\n3-5 s: ssdsss\\n10-15 n: cncwgtrhbnxpkwqzhvdn\\n10-13 j: nfjjzvzjjqtpx\\n12-13 j: jjjhjjjjjjjqr\\n9-12 h: hhhhhhlhhhhhhh\\n9-11 l: ljlllllfgvlll\\n1-4 p: gbpp\\n6-7 x: xtxxxhj\\n2-17 v: vvvvvcvchvvtpvvvp\\n1-5 c: bcccgc\\n2-5 p: ppbxp\\n2-3 w: wwwjwpjdjw\\n12-13 p: pmcppzwpkppppppppd\\n17-18 w: zgbwwwwzdwwswfxcgn\\n6-14 z: wzlzbdzzzzmzqspbcn\\n9-15 q: cttgqzglzxdqjhd\\n1-7 j: rgjrjjjjj\\n6-9 t: tttttxtttttt\\n3-5 d: rqkfq\\n3-12 c: cckwqckkcxcmwvnkz\\n7-8 z: zzkzdztgzz\\n3-5 t: wttttt\\n15-19 b: bbbbbbbbbpbbbrbbbtb\\n10-11 p: ppppppppprspphppp\\n5-7 v: nvqvbrfbd\\n6-8 n: vnnbhgnhn\\n7-11 r: prfrrhshrszrssr\\n4-5 z: qrszzht\\n7-9 z: zzzzzczzzzzz\\n2-3 l: lxtb\\n8-10 f: ffffffrfff\\n10-11 q: qqbgqqqcqqqq\\n2-9 l: gmflclltxcllzm\\n8-13 k: xkdglwzksvvdsjzp\\n7-8 h: hjkbfhsc\\n13-14 x: xxxxxxxxtxxxjbx\\n5-14 k: kkgkkkkkkkkkkkkkk\\n11-13 g: gwpggggggvxgzggg\\n4-6 j: jjjjfj\\n2-3 b: bxfb\\n1-2 k: kkkp\\n9-17 g: ggggggggkggggggghggg\\n3-4 p: nzpb\\n5-6 f: fbtfffv\\n4-10 h: hhhrhhhhhhh\\n3-11 d: wtddsbhwgfjmtlb\\n8-9 n: nnnnnnqrm\\n9-14 c: vchcclvtncscczbccw\\n7-9 q: qqqqqnlqqqqq\\n12-13 k: kkkkkckkkkkdh\\n4-9 v: vvvvvvvnvvvv\\n2-5 z: hhkzmwhzdfczf\\n4-5 q: qqqqq\\n4-12 g: gggggggggggggg\\n15-16 s: tnrtkspsszsmsmvs\\n13-16 h: hhhhhhhhhhhhmhhjhhhh\\n7-9 f: nhkmvtmfdcnfxflk\\n10-12 t: ttttttttsltw\\n1-5 t: nttttt\\n7-8 q: qqqqntqbfqq\\n6-10 z: zzzzzzzzzrz\\n10-17 k: kkkkkrkkpkkkkxqvkkdk\\n2-6 w: wqswjnwkx\\n9-18 l: fvhwjrrvnfzqvvhdwkpj\\n2-5 t: rqpxmqmnswvbtp\\n15-19 l: lfhlllllcbklgblllll\\n12-13 x: lxzvxxxxxxxrcxxtxxx\\n4-5 n: nngnb\\n5-14 j: jjjjjjjjjjjjjx\\n3-4 q: nqqqb\\n15-16 p: ppvpppppppppdpfqp\\n2-10 k: kkkkkkkkkkk\\n7-8 l: mllllllc\\n19-20 w: wwwwwwwwwwwwwwwwwhjb\\n2-4 t: rzmdfqjv\\n12-13 g: gggkggggvgvgtgg\\n7-12 b: qtjbzqbxbvsbwz\\n6-16 d: wmpjjddmtctmxbqd\\n13-15 c: fcznfkxzkftcfcfj\\n19-20 n: nnnxnnnnnnnnnnnnnnnn\\n6-8 x: gmgxxjxmxx\\n4-6 q: qqqqqpqqqdqqqqqq\\n3-5 c: cbcdc\\n6-7 k: ktwkqrkfmkpkkt\\n9-12 p: ppppppppqpwpp\\n16-20 c: cccccccccccpfccdcbcl\\n6-9 q: qqqqqzqqtfq\\n12-15 w: wwpwwwvrwwwwwzs\\n9-10 d: zddddhdfdd\\n11-12 c: cclkzqccxbccglgc\\n6-11 v: fzswbvbvddvpw\\n4-11 j: vnkjmztfjvj\\n2-3 h: jhhp\\n8-9 r: rrrrrrrrr\\n1-10 d: dddqdxdxdv\\n3-9 m: cmmpvmmhmmx\\n6-7 m: kpxtcmw\\n2-13 s: scjxbvrxfldhvf\\n3-11 w: wftqlhxsqhkwxwscrgvp\\n2-3 r: rrrq\\n1-2 t: tttd\\n6-7 b: pbbbbbbbbb\\n2-6 p: fkxlxnwpmxgtzv\\n12-14 w: wwlwwclgwwwwwxwwm\\n4-5 q: qqqkwq\\n11-16 q: qqqqqqqxqdqqqqqn\\n2-3 s: sgmmkxgs\\n4-8 z: zzzzzzzzzz\\n2-10 g: srnlfvgfdwcjqdspwt\\n7-10 f: fftfsblffj\\n5-8 b: sbbmbbxb\\n4-8 s: hmpvsdsssvsczpw\\n1-4 h: hghphn\\n3-7 r: glmxmlnzsfvlr\\n6-8 n: hncttfmt\\n3-5 w: wwwww\\n12-14 f: fhgfnffmmbfjlfq\\n9-10 q: qqqqqqqqgq\\n6-7 k: kkkkklkkkckkkkkfk\\n2-5 s: ssssss\\n3-8 d: ddlddddsd\\n6-9 k: kmkkvkkqkjfnkkkk\\n8-9 p: qpslppfhx\\n14-15 j: jjjjjjjjjjjjjch\\n2-5 z: rbqmznmq\\n7-8 w: wwwwwkwdwnq\\n4-7 t: cshbkttttt\\n1-2 f: fqffvffffffffffh\\n4-5 p: lfpbnvnbjsznxdpwp\\n1-2 w: wwdczgfzhv\\n16-19 p: ppppppppppsprpppppwp\\n2-11 f: mfdlhdgflgz\\n5-6 h: hhlhvj\\n2-6 n: nntjzn\\n3-4 w: wmwj\\n1-11 g: gggghgggggggggggg\\n3-4 g: jgjk\\n2-5 s: sjsss\\n2-3 h: bkhk\\n2-13 h: kbkbsjlvqxhfdwpstn\\n8-13 m: mmmmmmmkmmmmmm\\n19-20 s: sssspsssssssssssssss\\n3-7 c: jrrtcgx\\n15-18 m: mmmmmmmmmmmmmmmggm\\n5-14 x: ljxbxxxxxrnxxx\\n14-18 d: pddddjddddkqdmdddcd\\n1-19 d: tddpndddqdddddqgddd\\n7-14 b: jfbbcbbpgdbvmb\\n1-7 h: srvgwthwhhhh\\n1-4 n: xhqdfnnng\\n1-2 v: vbvvczs\\n10-14 g: gggggpgggfgggg\\n11-14 d: cnddvxddddnddldmf\\n2-3 d: tddzccmml\\n2-4 x: whfvct\\n2-5 s: cshcl\\n3-11 k: ckgkkkxzkmzjl\\n10-11 m: mmmmbmmmwkmm\\n11-12 g: gjwgggnbgggggzggjg\\n2-16 j: qkdlpxzmqkhxxxfskj\\n8-9 h: hkhxhhkqt\\n6-7 w: wwdswwwwwcqlw\\n2-9 w: bwsgvbwjrv\\n17-20 t: hknjzjzdwsqkbktkqfts\\n1-3 c: cjcsqfpgjppcccn\\n8-9 n: mnnnnznzngnnt\\n6-8 k: lgckxwkk\\n3-6 l: lsnldll\\n8-13 s: svsscsfcdsxvlksxtk\\n5-6 t: xttzsvtt\\n9-13 t: ttttstttvjbtr\\n3-4 s: sqxss\\n6-14 s: ssscsssssdssssssts\\n2-15 t: ztddqtbtttlfhttttpt\\n6-8 b: btbbbvbm\\n6-8 l: llllllllsllll\\n1-4 l: zlcv\\n10-15 f: bfstdfjfffmffffffgc\\n4-8 z: zzzbzzzvzz\\n5-7 h: qhmxhkhsjmwzkvh\\n8-12 f: lfffqffxfrfd\\n5-14 c: kcjbzhcfmrvrxkpnjd\\n5-7 b: bbbblbb\\n3-5 t: tgthtt\\n5-6 s: ssxssspsc\\n4-5 z: wzhzz\\n1-5 b: bbbbbb\\n4-11 j: sjtbrnspzndg\\n1-8 g: lbscqdrdtqgmtsg\\n4-15 c: cdccnpccscclcccccc\\n4-5 s: smsssz\\n6-9 b: bbbbbtbbqbk\\n10-13 h: hhfkhhfhhmhgq\\n3-4 s: hhsg\\n12-14 s: ssssssssssssssdss\\n5-6 w: qfxnvk\\n4-8 v: fvvvvvvvjs\\n5-11 f: ffffffffffnff\\n7-16 d: knfdxddwdddnwdjdddl\\n12-13 d: dddddddddddrw\\n16-17 w: wsxwwwwwwwwwwwwltw\\n6-10 w: wtwjcsjwhgw\\n2-7 v: spvscsxhjfjfdff\\n11-14 k: scpskhmkwkqhzm\\n16-17 m: mqmmmmmfmmzmbmmwg\\n11-12 p: pppkppppqwpc\\n2-11 d: ddgssqrdqqdd\\n5-18 z: wrghzskqlgxqmqczsxvf\\n13-14 t: tzttttvftrttttkj\\n12-16 w: hxvdgjwsbclrmrtwxc\\n1-11 x: bnxdfxgfxfq\\n9-10 k: mwsnrdbcqrvxlk\\n1-8 j: qprjjjzlj\\n17-18 f: fjfffncffffwfdxfgvfd\\n4-5 j: pjjjc\\n1-2 j: jjjh\\n2-4 v: tvpv\\n8-12 x: fxxxxxxbxxxhx\\n9-10 f: xfffffffffffffffjnf\\n1-5 k: vkkknk\\n3-4 s: qtsrfsvsvsrtc\\n5-6 z: zzmzkj\\n1-12 n: snnnnnnnnnnnnnnnn\\n2-5 m: mjmml\\n9-11 n: nnnnnnlnnngnnnv\\n2-3 x: fxxxxckxsrlwhc\\n5-15 d: rdpjlddjdrddxbddt\\n5-17 c: bccbbckwvcrmdcqcctcc\\n6-8 w: wwjwwswrwpnwgxnd\\n7-10 p: pppppppppppppp\\n3-18 h: hhlhhjnwhhbhhzhhhthj\\n2-7 b: llbbcrjbnb\\n1-6 s: ssbssfkss\\n2-3 m: zhnmd\\n10-12 t: ttlttzttllbjtttttt\\n8-10 w: wwbwwwwwmw\\n4-5 r: rrrfh\\n1-4 l: lfblrlpzzlqljlsll\\n3-4 c: cwcjmh\\n14-16 h: hhhhjhhhhxhhhlhkxhh\\n7-8 m: mmvcmqmdmkbmmmn\\n5-7 m: dwmqmmmkmkm\\n1-4 d: ddddm\\n12-16 d: dqlpddwndmrdvdmdghdh\\n18-20 v: gzqvmvzvcffwbfnvhmnq\\n4-5 c: cckcc\\n9-14 x: xxxxthxxgjbxxrx\\n6-12 z: vkxzzjzzzjfp\\n11-14 h: hczhgqsbsmtrhf\\n6-8 x: kjvscxnxfvxbmgnksxq\\n7-9 k: kvffnskdkdq\\n6-7 x: xxxxcxx\\n6-12 m: mrmmmcmjzmftgmmtm\\n13-17 f: ffqfffffpffqmfnhgbf\\n8-10 r: rrmjrktmjbrrrrsl\\n8-13 c: cccccnnrccccvqcnclcc\\n1-4 t: tttg\\n13-17 j: jpjjjjjjjjjjtjjjtjz\\n3-5 r: rrlrl\\n3-18 c: cjshpccrvfxggcfjsfwq\\n2-7 l: ldlrxqqbqllgj\\n1-3 v: bvxr\\n5-6 t: tttttt\\n17-19 b: pqbmnhbksnqqxbhlxjcr\\n4-5 p: ppppp\\n1-4 m: mmmmmm\\n1-9 b: vbtbbbbbbfbbqb\\n6-10 j: fzqldjzgdjrjt\\n6-7 w: wwwwwwzwwvww\\n8-9 r: rrrrrrrrrr\\n5-8 h: xhvjhhlhdwvh\\n7-10 w: wwwwgwlwwgwwww\\n5-9 f: lvvfcfqffv\\n4-6 n: nnnnnr\\n2-3 c: wdbq\\n19-20 l: lglllllllllllllvllrl\\n5-9 z: zzddzzzwz\\n3-4 d: dkddvdd\\n10-14 f: fmffffffrsfnfx\\n4-5 p: pvpwvqplmprp\\n4-10 c: ctclccccvbcccc\\n5-6 h: hhhzhh\\n7-14 g: ggggggggkgggggggwgg\\n8-11 b: bbrbbxbgbbb\\n3-4 q: qpxq\\n2-4 z: xkrv\\n2-3 m: mmmm\\n9-10 w: wwwwzwlzwcwwbpfrrf\\n7-12 t: kthhmbddtbhs\\n2-4 t: tttjtt\\n5-7 w: xvwwwwww\\n10-12 g: gdmgghnkmgggmwjrlgjj\\n4-6 j: jzknjjt\\n1-10 v: vvvvvvvvvc\\n8-11 w: znmpmrffmswnqw\\n7-12 w: dxpvfwcgwwwwwxwww\\n3-4 z: zbzzt\\n4-18 r: frqhkrqbcttrdqkgnr\\n9-12 s: dssxrzjsfssv\\n2-4 w: fwjw\\n11-13 r: kdrrrrrrvrrrqrprr\\n7-10 g: gggggggggg\\n1-5 v: vdvvv\\n19-20 s: vmswvsbspsgsvszssbss\\n4-5 q: qqqqqq\\n6-9 l: llrdllwlwlll\\n9-11 m: mmmdmmmmkmhgmkmmmm\\n1-3 g: sgfg\\n12-14 g: gggggggggrggpgggrb\\n6-9 x: zdzplkrxxkkrjpxnsdzl\\n14-19 h: htclqdvhdzqhxbhzhkh\\n2-4 m: wmmmt\\n3-4 p: sjpp\\n3-4 h: hhrx\\n2-3 r: zhlzpzc\\n14-20 j: nffzpjmqrjbjjfjjmcjl\\n4-6 w: wmpjwzzd\\n7-8 q: qqqqqqqq\\n4-5 n: rgcvfnbn\\n3-4 g: qgmcgs\\n4-8 v: vvzlzxhclv\\n7-8 g: szsgfzgqjnj\\n12-15 w: wwwwwwwwwwwwkwd\\n11-12 t: ttttjtttttpz\\n5-6 q: gdmrqq\\n5-7 w: nwwwwwrw\\n1-4 s: srpm\\n14-18 w: wwwwwfwwwwwwwnwwwrw\\n7-9 z: zzzsznjzrfzw\\n3-18 v: vvxvvvkvvvbvvgjvvvv\\n2-16 p: mmnsdmhhkfqplzcwq\\n1-2 h: hhlmvhw\\n7-8 n: nnnznqnn\\n3-4 n: hnnn\\n5-6 p: zvbdhnpkcpggvlxppp\\n3-4 l: lljgll\\n1-5 d: ndddmddddd\\n3-4 t: dttt\\n4-5 m: wmmzm\\n6-8 m: mhmmmvmwm\\n8-11 b: wxzvmmvbxqbjb\\n18-19 x: xdtszmmqxlxzvxgxwvj\\n15-19 r: rrrrrrrpwfrrrrrrrrrr\\n9-17 j: jjjjjjrjjjjjjvjjjjqj\\n2-5 t: nmxwtthqstg\\n9-17 h: chjkngjkkrnkhgtgv\\n2-4 r: rrrr\\n10-16 l: lpdlllmsllfkllll\\n2-4 g: gxgmg\\n4-5 h: rnhhh\\n2-5 j: jqnvqlntsccr\\n2-6 x: dxdxwxfxfnxx\\n5-19 s: fsnpsdhkbqnscbdjphf\\n5-10 v: hclvbnmvwvvcvsgxbdcv\\n2-10 r: gfczjcpjbdlf\\n4-9 m: mmmxmmmmmm\\n4-14 b: bpjgdxbbbvbgbbbb\\n6-8 w: qhwwbwwww\\n7-10 x: wjxzxxxfxxs\\n7-9 w: hwjdwfjgqcwhlwwwwg\\n3-8 v: vbvwpnmv\\n1-9 h: chhhhhhdnh\\n3-4 l: qgllflwhsbq\\n6-9 q: qzqkqqzqqlfmfq\\n3-12 m: mmwmvmmmmdmmzlbtmr\\n3-5 n: nnknwn\\n7-8 b: bbnbbbxs\\n2-4 f: fvljfff\\n12-15 w: wwwwwrwwwwwwwwvwwww\\n2-4 g: gggmg\\n1-2 w: wwxwqw\\n11-18 s: sssssssssscqsssssn\\n12-15 r: rrcrrrrrrrwlbgrh\\n9-14 t: ttttwsttrnttthtt\\n4-5 n: nnnnnnnn\\n15-16 w: wwwwwwwwwtwwwdwww\\n7-12 g: qfgjwcggglgggwmlhr\\n1-15 z: zzsphzzzvzzzbpzzz\\n14-16 l: llllllllxlllljlsll\\n3-4 x: xxxx\\n3-6 w: dhwpjw\\n2-7 v: zvvkxcvbtwx\\n2-5 x: whpfx\\n4-6 f: mfndfc\\n5-7 z: tznzzzn\\n3-5 l: jtllld\\n15-17 d: jbdrdnlqdbdlvzwhbdz\\n14-18 d: ddddddddddddddddddd\\n3-4 c: vlvsqxcmjsk\\n10-14 b: bpbhbbdvblbsfbbrdb\\n6-7 g: dgmchcbmhhxcbvg\\n11-15 d: ddddddddddndddqddddd\\n3-11 g: ggxlggggggfgg\\n3-5 g: gcrgw\\n4-8 q: xqlqrqqkk\\n3-4 x: zrqndxxxf\\n4-9 l: llllllllcllglll\\n4-6 d: bdddddztdbd\\n7-9 s: zkghrssxm\\n4-6 x: xgncxfx\\n8-9 c: cccccccwn\\n9-10 m: mmmzmmmmmmhvm\\n4-5 c: cvhcc\\n2-5 k: kfkqgxqfk\\n16-18 s: ssssssssssksssssss\\n4-5 k: zbknk\\n3-4 h: hjdhcfsv\\n4-6 f: lfrfdfhfqf\\n2-11 k: kkkkkkktkkkkkk\\n1-9 f: fkwtffhffxftdfz\\n8-15 b: bbbbprztvbbbkbbbbbb\\n6-10 s: ssssfwssswgk\\n11-12 t: trcthtmljttv\\n3-4 s: svss\\n6-8 p: ptpppzpldvcdbbbpwmjg\\n11-17 x: cxpqbxxxxbxxxqxxn\\n11-14 z: pzzzzwpxnzzkzzz\\n6-7 c: ccccccc\\n1-2 z: grzzz\\n8-10 d: xgmswdsvtb\\n7-8 c: kcccccdp\\n12-13 f: btcnxsclqznxmf\\n4-11 k: grhkjkkkkkkkkpksktkk\\n15-16 z: zzzzzzzzszzzzzzz\\n8-11 v: vvvvvvvgvvlvvvvv\\n1-2 c: qqccc\\n2-4 w: nvkgzdfw\\n3-12 f: bfvpftfffwdfff\\n5-6 h: wghnhtvzhhz\\n4-6 v: vpvmvp\\n5-9 z: nfgwzzzszz\\n10-11 b: bbbxbbbbbbbb\\n6-7 g: ggnggzw\\n2-6 c: bcrccc\\n1-13 s: dsssssssssssls\\n1-6 j: fjjjjcj\\n4-14 p: pzvfnpfppblfjngpkzj\\n1-2 p: pppv\\n4-5 t: gttsktt\\n3-13 w: wwwrbwwwwwcwwwrwxg\\n12-14 r: zrtrdrrrjrhrmrl\\n5-6 b: bnbbbwbbw\\n13-19 g: ggqbhgfggfpgqgggggx\\n11-12 b: bbbbbkbbbbnp\\n10-11 c: hcvccchqshj\\n6-8 k: krvlcfkrxx\\n5-13 d: dddddddddddddd\\n5-7 w: wwwzbwkhvwwm\\n6-10 z: zzzzznzzzrzz\\n11-12 h: hhhhhhhthfcr\\n9-13 t: ttttsxtttkgtttgtt\\n11-13 r: nrrrrrrrrrprtrrrrrrr\\n16-17 l: kllllhlllllllllzdl\\n4-6 w: wwjwvw\\n1-3 j: mjnxbqvzfjgjsjr\\n7-8 t: pltpspvt\\n5-13 m: lmzmmnqfmmjmtm\\n1-15 d: djxhfqjwjmdndhg\\n4-6 r: hkrrrrgsdsx\\n1-7 r: srrrrrrrsprh\\n3-6 g: dbgtqwkwkgzqxbgbgkh\\n15-18 s: sssslrsspssssszssp\\n8-11 q: qqvkqpdqdqqz\\n1-3 c: cccscccc\\n5-9 d: wpfzlqnsdrtlvwnd\\n7-9 f: qrdblxfnf\\n3-4 z: flzz\\n11-12 c: ccccccccccpwc\\n3-4 v: ltjwvcv\\n13-15 p: ppppppppppppfpp\\n14-15 r: zrrrrrrrbrrrrrkrr\\n2-5 n: lnwnnsmfd\\n4-7 t: ttctrtt\\n5-6 w: hsfpwcwrfwxmwww\\n5-8 b: bbbbmbbfbb\\n1-3 z: czzp\\n4-6 h: hhbhhh\\n16-18 j: jjjjjjjjjjjjjjjjjq\\n1-2 n: zdlwqzlnnp\\n5-16 m: mmmmxmmmmmmmmmmjm\\n3-5 h: hhlfhghhhjh\\n2-6 f: vkfbpf\\n5-6 j: jjjjjjj\\n4-8 q: qdmzqlln\\n6-7 x: xpxxxjtxs\\n2-5 z: znzzxq\\n8-13 j: jjjjwvvjcjjjkj\\n2-7 x: xkxwxxncxtxvxxlxr\\n4-13 m: zrxmqfmmjgcgqwk\\n2-4 b: bqbbbb\\n2-3 j: gjjlv\\n14-17 n: nnnqnnntnnnnndnnmnnn\\n3-8 c: tlcmcccx\\n2-7 c: ccmlbscmb\\n7-8 l: ljflbgll\\n2-11 p: dqkzvmptdgchclbw\\n7-12 w: wwwwwwwwwwww\\n1-10 r: htpmgskvrzr\\n1-4 m: fndmmmmztmcgmx\\n3-4 t: qmtttzqtt\\n11-17 g: zggggdgdglqfsgqxggg\\n2-10 c: ccccfkvxcc\\n13-15 g: ggggggggggggnggzgg\\n4-14 z: zzzzzzzzzlzzzzzzzz\\n4-13 g: ggglggggggggqg\\n12-13 x: xzxxxxxxxxxkxx\\n3-7 s: sssssssjss\\n9-11 j: jjtjrjzjjhjjkbjjjbjt\\n4-6 r: rkrfrrrrr\\n5-6 q: qmqcgqqq\\n4-17 t: tttmtttcttttttttttt\\n2-4 d: fsbdddpdd\\n11-15 b: xbbbbbbbbbbbrbqpbb\\n4-6 s: lkqsqwkszzsjst\\n13-14 l: lllllllllllllllllll\\n12-15 t: btlttmbthtttttdtt\\n9-12 q: mkcqrnfqxqnqskpq\\n3-5 m: stmmmgqjfv\\n5-11 v: vvlgzvvvvvv\\n2-6 n: znntrnhnntbpjkgnqv\\n7-8 d: sgmddfddjrtv\\n6-10 k: kqkkbnkkpdk\\n5-7 n: nnnznnngnl\\n9-16 q: qqqqqqqqjqqqqqqbqqqq\\n2-4 w: bwww\\n9-11 c: jfpvdqftgqx\\n5-11 c: ccccckcccfccccc\\n1-2 c: ccbsvl\\n1-5 d: ddmmd\\n2-8 j: ntjhkjjmjcj\\n5-6 p: ppppskpkpp\\n4-8 t: ztptgptzmtttw\\n5-6 k: gvjzkmdkfmxnlq\\n17-18 f: ffffffffffffffffdf\\n1-13 s: sssbhztsnssgs\\n3-6 v: mlvvvfvwxvvxv\\n6-11 p: npkcbslzpvtkjp\\n2-4 m: gbsjxmjxcdsdnv\\n16-17 b: bcbbbbbbbbbfbbbbvbbb\\n17-18 h: lmshsjxbbhhrqhfqchkh\\n1-3 l: llllk\\n5-8 h: dhhwhhhnhh\\n9-12 f: ffdhpzffkffpfcffjf\\n1-5 k: khbfkkc\\n1-8 p: ndkpxvpgpppp\\n1-7 t: tljjkttqptttvt\\n16-17 t: tttttttttrttttttt\\n13-18 z: ztzzzzgzzzzglzzndjzf\\n13-15 q: qqqqqqqqqqqqqqqqq\\n6-8 v: vvvvvvvv\\n10-15 q: fqcxlxvhvgfzxwvqv\\n4-12 g: btdgdglbprjg\\n3-5 t: gttjt\\n1-11 w: twwwwwwwwwnwww\\n2-3 f: jgbfcfbfftccffff\\n1-2 r: rrrnwr\\n11-16 r: rrrrrrrrrrrrrrrr\\n1-16 q: qqqqqqqqqqqqqqqqqqqq\\n7-16 z: zwzzzzfzzzzzzzzz\\n10-11 f: fflfmfrjfhjffff\\n1-5 t: npxgd\\n7-8 n: nknnnngbxd\\n4-6 k: kkkkkkk\\n5-19 d: xtdddjxfvxgddddndndq\\n8-12 s: vstssxssssss\\n3-6 f: tlfftfxqhbltbrg\\n17-19 d: ddddddddddddddddtdc\\n2-9 q: qqqqnqgbq\\n8-14 k: wknbkkkbkzkgkdkk\\n17-18 n: nnnntnnvnnnnnnnnnnnn\\n15-16 p: ppppppppppppppppp\\n2-4 h: hwhhhh\\n4-9 d: ddddddddddd\\n1-8 s: sssssssrs\\n14-15 z: zfzzzzzzzcfzzzz\\n5-6 k: kkkkkkk\\n5-6 x: xxxxxvx\\n18-19 r: rrrrjrkbttrjpfjqftm\\n11-12 f: fffffffffsff\\n11-17 z: hwzdfvbpbxzfpjwmzq\\n1-11 m: mxkmnxfbtnmvmtzdqjl\\n3-4 d: ddjg\\n17-18 b: jnlntbblbbqbkqmbbb'"
      ]
     },
     "metadata": {},
     "execution_count": 4
    }
   ],
   "source": [
    "from aocd.models import Puzzle\n",
    "from itertools import combinations\n",
    "import re\n",
    "\n",
    "puzzle = Puzzle(year=2020,day=2)\n",
    "puzzle.input_data"
   ]
  },
  {
   "cell_type": "code",
   "execution_count": 9,
   "metadata": {},
   "outputs": [
    {
     "output_type": "execute_result",
     "data": {
      "text/plain": [
       "267"
      ]
     },
     "metadata": {},
     "execution_count": 9
    }
   ],
   "source": [
    "lines = puzzle.input_data.splitlines()\n",
    "\n",
    "pattern = re.compile(r'(\\d+)-(\\d+)\\s(.):\\s(.*)')\n",
    "\n",
    "def parse_rule(rule: str):\n",
    "    char = rule[-1]\n",
    "    bounds = [int(x) for x in rule[:-1].split('-')]\n",
    "    return tuple([char, bounds[0], bounds[1]])\n",
    "\n",
    "def isValid(password:str, rule):\n",
    "    counts = password.count(rule[0])\n",
    "    return rule[1] <= counts <= rule[2]\n",
    "\n",
    "def isValid_b(password:str, rule):\n",
    "    inFirstPos = password[rule[1]-1] == rule[0]\n",
    "    inSecondPos = password[rule[2]-1] == rule[0]\n",
    "    return (inFirstPos ^ inSecondPos)\n",
    "\n",
    "valids = []\n",
    "valids_b = []\n",
    "for line in lines:\n",
    "    # temp = line.split(':')\n",
    "    # rule = parse_rule(temp[0])\n",
    "    # password = temp[1]\n",
    "    match = re.match(pattern, line).groups()\n",
    "    rule = (match[2], int(match[0]), int(match[1]))\n",
    "    password = match[3]\n",
    "    valids.append(isValid(password, rule))\n",
    "    valids_b.append(isValid_b(password, rule))\n",
    "answer_a = sum(valids)\n",
    "answer_b = sum(valids_b)"
   ]
  },
  {
   "cell_type": "code",
   "execution_count": 8,
   "metadata": {},
   "outputs": [
    {
     "output_type": "stream",
     "name": "stdout",
     "text": [
      "That's the right answer!  You are one gold star closer to saving your vacation.You have completed Day 2! You can [Shareon\n",
      "  Twitter\n",
      "Mastodon] this victory or [Return to Your Advent Calendar].\n"
     ]
    }
   ],
   "source": [
    "try:\n",
    "    if answer_a is not None:\n",
    "        puzzle.answer_a = answer_a\n",
    "    if answer_b is not None:\n",
    "        puzzle.answer_b = answer_b\n",
    "except NameError:\n",
    "    pass"
   ]
  },
  {
   "cell_type": "code",
   "execution_count": null,
   "metadata": {},
   "outputs": [],
   "source": []
  }
 ]
}