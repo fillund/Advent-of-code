{
 "metadata": {
  "language_info": {
   "codemirror_mode": {
    "name": "ipython",
    "version": 3
   },
   "file_extension": ".py",
   "mimetype": "text/x-python",
   "name": "python",
   "nbconvert_exporter": "python",
   "pygments_lexer": "ipython3",
   "version": "3.8.0-final"
  },
  "orig_nbformat": 2,
  "kernelspec": {
   "name": "python3",
   "display_name": "Python 3"
  }
 },
 "nbformat": 4,
 "nbformat_minor": 2,
 "cells": [
  {
   "cell_type": "code",
   "execution_count": 1,
   "metadata": {},
   "outputs": [],
   "source": [
    "from aocd.models import Puzzle\n",
    "\n",
    "\n",
    "puzzle = Puzzle(2019, 4)"
   ]
  },
  {
   "cell_type": "code",
   "execution_count": 34,
   "metadata": {},
   "outputs": [
    {
     "output_type": "stream",
     "name": "stdout",
     "text": [
      "That's the right answer!  You are one gold star closer to rescuing Santa.You have completed Day 4! You can [Shareon\n",
      "  Twitter\n",
      "Mastodon] this victory or [Return to Your Advent Calendar].\n"
     ]
    }
   ],
   "source": [
    "data = puzzle.input_data.split('-')\n",
    "start = data[0]\n",
    "stop = data[1]\n",
    "\n",
    "passwords = [str(x) for x in range(int(start), int(stop)+1)]\n",
    "\n",
    "def contains_double_digit(password: str) -> bool:\n",
    "    doubles = [''.join([str(x),str(x)]) for x in range(10)]\n",
    "    return any(x in password for x in doubles)\n",
    "\n",
    "def non_decreasing(password: str) -> bool:\n",
    "    return all(x <= y for (x,y) in zip(password, password[1:]))\n",
    "\n",
    "def only_double_digit(password: str) -> bool:\n",
    "    doubles = [''.join([str(x),str(x)]) for x in range(10)]\n",
    "    triples = [''.join([str(x),str(x), str(x)]) for x in range(10)]\n",
    "    double_in = [x in password for x in doubles]\n",
    "    triple_in = [x in password for x in triples]\n",
    "    return any(x and not y for (x,y) in zip(double_in, triple_in))\n",
    "\n",
    "passwords_a = filter(non_decreasing, passwords)\n",
    "passwords_a = filter(contains_double_digit, passwords_a)\n",
    "\n",
    "puzzle.answer_a = len(list(passwords_a))\n",
    "\n",
    "passwords_b = filter(non_decreasing, passwords)\n",
    "passwords_b = filter(only_double_digit, passwords_b)\n",
    "\n",
    "puzzle.answer_b = len(list(passwords_b))\n"
   ]
  }
 ]
}