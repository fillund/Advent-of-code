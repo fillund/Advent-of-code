{
 "metadata": {
  "language_info": {
   "codemirror_mode": {
    "name": "ipython",
    "version": 3
   },
   "file_extension": ".py",
   "mimetype": "text/x-python",
   "name": "python",
   "nbconvert_exporter": "python",
   "pygments_lexer": "ipython3",
   "version": "3.8.0-final"
  },
  "orig_nbformat": 2,
  "kernelspec": {
   "name": "python3",
   "display_name": "Python 3.8.0 64-bit ('AdventOfCode-4X9Bua6I')",
   "metadata": {
    "interpreter": {
     "hash": "478b527516f2d8bf87b8f4689bbd4df82e6f809facf4bb98e9edf74a15b806d7"
    }
   }
  }
 },
 "nbformat": 4,
 "nbformat_minor": 2,
 "cells": [
  {
   "cell_type": "code",
   "execution_count": 28,
   "metadata": {},
   "outputs": [],
   "source": [
    "from aocd.models import Puzzle\n",
    "from typing import Set, Iterable, Tuple, Dict\n",
    "import os\n",
    "\n",
    "puzzle = Puzzle(2019, 3)"
   ]
  },
  {
   "source": [
    "Algorithm:\n",
    "    For each wire:\n",
    "        create set of visited positions\n",
    "    intersections = set1\\intersect set2\n",
    "    for intersection in intersections:\n",
    "        calculate distance\n",
    "    return min distance"
   ],
   "cell_type": "markdown",
   "metadata": {}
  },
  {
   "cell_type": "code",
   "execution_count": 33,
   "metadata": {},
   "outputs": [],
   "source": [
    "def create_visited_set(line: Iterable[str]):\n",
    "    x,y = 0,0\n",
    "    set_out = set()\n",
    "    step_dict = {}\n",
    "    steps = 0\n",
    "    for node in line:\n",
    "        dir = node[0]\n",
    "        dist = int(node[1:])\n",
    "        for i in range(1, dist+1):\n",
    "            if dir == 'U':\n",
    "                y = y + 1\n",
    "            elif dir == 'D':\n",
    "                y = y - 1\n",
    "            elif dir == 'R':\n",
    "                x = x + 1\n",
    "            else:\n",
    "                x = x - 1 \n",
    "            steps = steps + 1\n",
    "            step_dict[(x,y)] = steps\n",
    "            set_out.add((x,y))\n",
    "    return set_out, step_dict\n"
   ]
  },
  {
   "cell_type": "code",
   "execution_count": 36,
   "metadata": {},
   "outputs": [
    {
     "output_type": "stream",
     "name": "stdout",
     "text": [
      "That's the right answer!  You are one gold star closer to rescuing Santa.You have completed Day 3! You can [Shareon\n",
      "  Twitter\n",
      "Mastodon] this victory or [Return to Your Advent Calendar].\n"
     ]
    }
   ],
   "source": [
    "line_a, line_b = (l.split(',') for l in puzzle.input_data.splitlines())\n",
    "\n",
    "\n",
    "cvisited_a, step_dict_a = create_visited_set(line_a)\n",
    "svisited_b, step_dict_b = create_visited_set(line_b)\n",
    "\n",
    "viintersections = visited_a.intersection(visited_b)\n",
    "distances = []\n",
    "\n",
    "fsteps = []or iintersect in iintersections:\n",
    "     manhattan = abs(intersect[0]) + abs(intersect[1])    adistances.append()manhattan\n",
    " \n",
    "     step = step_dict_a[intersect] + step_dict_b[intersect]   \n",
    "steps .append\n",
    "(step)ppzle.answer_a = min(distances)\n",
    "puzpuzzle.ansanswer_b = min(steps)"
   ]
  },
  {
   "cell_type": "code",
   "execution_count": 10,
   "metadata": {},
   "outputs": [],
   "source": [
    "\n"
   ]
  }
 ]
}